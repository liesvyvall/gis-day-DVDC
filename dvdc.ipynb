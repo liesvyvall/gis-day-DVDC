{
 "cells": [
  {
   "cell_type": "markdown",
   "id": "5d869e4e-1211-4434-81de-b13a775d3103",
   "metadata": {},
   "source": [
    "# Taller GIS-DAY"
   ]
  },
  {
   "cell_type": "code",
   "execution_count": null,
   "id": "5ab0aaf8-4dc8-4af3-b7a2-a77ba2d21de9",
   "metadata": {},
   "outputs": [],
   "source": []
  }
 ],
 "metadata": {
  "kernelspec": {
   "display_name": "mlearn",
   "language": "python",
   "name": "python3"
  },
  "language_info": {
   "codemirror_mode": {
    "name": "ipython",
    "version": 3
   },
   "file_extension": ".py",
   "mimetype": "text/x-python",
   "name": "python",
   "nbconvert_exporter": "python",
   "pygments_lexer": "ipython3",
   "version": "3.12.2"
  }
 },
 "nbformat": 4,
 "nbformat_minor": 5
}
