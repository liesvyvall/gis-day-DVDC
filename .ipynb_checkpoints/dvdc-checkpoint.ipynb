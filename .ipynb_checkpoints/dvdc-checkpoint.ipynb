{
 "cells": [
  {
   "cell_type": "markdown",
   "id": "5d869e4e-1211-4434-81de-b13a775d3103",
   "metadata": {},
   "source": [
    "# Taller GIS-DAY"
   ]
  },
  {
   "cell_type": "markdown",
   "id": "51ee7b67-86eb-4a81-b293-4adccef1974e",
   "metadata": {},
   "source": [
    "## 1. Descarga e instalación de Anaconda\n",
    "\n",
    "https://www.anaconda.com/download/success"
   ]
  },
  {
   "cell_type": "markdown",
   "id": "883ed5c4-bf51-4430-b041-fb1397443028",
   "metadata": {},
   "source": [
    "## 2. Registro y descarga de datos de Copernicus\n",
    "\n",
    "https://data.marine.copernicus.eu/products\n",
    "\n",
    "### 2.1 Productos:\n",
    "\n",
    "#### 2.1.1 Temperatura Superficial del mar (sst)\n",
    "https://data.marine.copernicus.eu/product/GLOBAL_MULTIYEAR_PHY_001_030/description\n",
    "\n",
    "#### 2.1.2 Clorofila-a\n",
    "https://data.marine.copernicus.eu/product/GLOBAL_ANALYSISFORECAST_BGC_001_028/description"
   ]
  },
  {
   "cell_type": "code",
   "execution_count": 1,
   "id": "425b6881-9624-4d2f-a3ab-431dc0f4ebf9",
   "metadata": {},
   "outputs": [
    {
     "name": "stdout",
     "output_type": "stream",
     "text": [
      "README.md\n",
      "cmems_mod_glo_bgc-pft_anfc_0.25deg_P1D-m_1731864348866.nc\n",
      "cmems_mod_glo_phy_my_0.083deg_P1D-m_1731864183329.nc\n",
      "dvdc.ipynb\n",
      "\u001b[34mm-complementario\u001b[m\u001b[m/\n"
     ]
    }
   ],
   "source": [
    "ls"
   ]
  },
  {
   "cell_type": "code",
   "execution_count": null,
   "id": "83e272f8-ee52-46d3-8701-d80b3c21fde7",
   "metadata": {},
   "outputs": [],
   "source": []
  }
 ],
 "metadata": {
  "kernelspec": {
   "display_name": "Python 3 (ipykernel)",
   "language": "python",
   "name": "python3"
  },
  "language_info": {
   "codemirror_mode": {
    "name": "ipython",
    "version": 3
   },
   "file_extension": ".py",
   "mimetype": "text/x-python",
   "name": "python",
   "nbconvert_exporter": "python",
   "pygments_lexer": "ipython3",
   "version": "3.12.2"
  }
 },
 "nbformat": 4,
 "nbformat_minor": 5
}
